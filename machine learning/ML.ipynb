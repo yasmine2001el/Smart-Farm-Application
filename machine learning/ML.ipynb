{
 "cells": [
  {
   "cell_type": "code",
   "execution_count": 1,
   "id": "1de22566",
   "metadata": {
    "_cell_guid": "b1076dfc-b9ad-4769-8c92-a6c4dae69d19",
    "_uuid": "8f2839f25d086af736a60e9eeb907d3b93b6e0e5",
    "execution": {
     "iopub.execute_input": "2023-04-05T19:18:04.675860Z",
     "iopub.status.busy": "2023-04-05T19:18:04.675316Z",
     "iopub.status.idle": "2023-04-05T19:18:06.087175Z",
     "shell.execute_reply": "2023-04-05T19:18:06.085851Z"
    },
    "papermill": {
     "duration": 1.428656,
     "end_time": "2023-04-05T19:18:06.090184",
     "exception": false,
     "start_time": "2023-04-05T19:18:04.661528",
     "status": "completed"
    },
    "tags": []
   },
   "outputs": [],
   "source": [
    "import pandas as pd\n",
    "import numpy as np\n",
    "import seaborn as sns\n",
    "from matplotlib import pyplot as plt"
   ]
  },
  {
   "cell_type": "code",
   "execution_count": 2,
   "id": "556dcf9f",
   "metadata": {
    "execution": {
     "iopub.execute_input": "2023-04-05T19:18:06.114179Z",
     "iopub.status.busy": "2023-04-05T19:18:06.113722Z",
     "iopub.status.idle": "2023-04-05T19:18:06.141761Z",
     "shell.execute_reply": "2023-04-05T19:18:06.140358Z"
    },
    "papermill": {
     "duration": 0.043901,
     "end_time": "2023-04-05T19:18:06.144792",
     "exception": false,
     "start_time": "2023-04-05T19:18:06.100891",
     "status": "completed"
    },
    "tags": []
   },
   "outputs": [],
   "source": [
    "df = pd.read_csv(\"Crop_recommendation.csv\")"
   ]
  },
  {
   "cell_type": "markdown",
   "id": "5c38f210",
   "metadata": {
    "papermill": {
     "duration": 0.010281,
     "end_time": "2023-04-05T19:18:06.166218",
     "exception": false,
     "start_time": "2023-04-05T19:18:06.155937",
     "status": "completed"
    },
    "tags": []
   },
   "source": [
    "#Data Analysis"
   ]
  },
  {
   "cell_type": "code",
   "execution_count": 3,
   "id": "32200047",
   "metadata": {
    "execution": {
     "iopub.execute_input": "2023-04-05T19:18:06.191259Z",
     "iopub.status.busy": "2023-04-05T19:18:06.190803Z",
     "iopub.status.idle": "2023-04-05T19:18:06.223913Z",
     "shell.execute_reply": "2023-04-05T19:18:06.222827Z"
    },
    "papermill": {
     "duration": 0.050198,
     "end_time": "2023-04-05T19:18:06.226842",
     "exception": false,
     "start_time": "2023-04-05T19:18:06.176644",
     "status": "completed"
    },
    "tags": []
   },
   "outputs": [
    {
     "data": {
      "text/html": [
       "<div>\n",
       "<style scoped>\n",
       "    .dataframe tbody tr th:only-of-type {\n",
       "        vertical-align: middle;\n",
       "    }\n",
       "\n",
       "    .dataframe tbody tr th {\n",
       "        vertical-align: top;\n",
       "    }\n",
       "\n",
       "    .dataframe thead th {\n",
       "        text-align: right;\n",
       "    }\n",
       "</style>\n",
       "<table border=\"1\" class=\"dataframe\">\n",
       "  <thead>\n",
       "    <tr style=\"text-align: right;\">\n",
       "      <th></th>\n",
       "      <th>N</th>\n",
       "      <th>P</th>\n",
       "      <th>K</th>\n",
       "      <th>temperature</th>\n",
       "      <th>humidity</th>\n",
       "      <th>ph</th>\n",
       "      <th>rainfall</th>\n",
       "      <th>label</th>\n",
       "    </tr>\n",
       "  </thead>\n",
       "  <tbody>\n",
       "    <tr>\n",
       "      <th>0</th>\n",
       "      <td>90</td>\n",
       "      <td>42</td>\n",
       "      <td>43</td>\n",
       "      <td>20.879744</td>\n",
       "      <td>82.002744</td>\n",
       "      <td>6.502985</td>\n",
       "      <td>202.935536</td>\n",
       "      <td>rice</td>\n",
       "    </tr>\n",
       "    <tr>\n",
       "      <th>1</th>\n",
       "      <td>85</td>\n",
       "      <td>58</td>\n",
       "      <td>41</td>\n",
       "      <td>21.770462</td>\n",
       "      <td>80.319644</td>\n",
       "      <td>7.038096</td>\n",
       "      <td>226.655537</td>\n",
       "      <td>rice</td>\n",
       "    </tr>\n",
       "    <tr>\n",
       "      <th>2</th>\n",
       "      <td>60</td>\n",
       "      <td>55</td>\n",
       "      <td>44</td>\n",
       "      <td>23.004459</td>\n",
       "      <td>82.320763</td>\n",
       "      <td>7.840207</td>\n",
       "      <td>263.964248</td>\n",
       "      <td>rice</td>\n",
       "    </tr>\n",
       "    <tr>\n",
       "      <th>3</th>\n",
       "      <td>74</td>\n",
       "      <td>35</td>\n",
       "      <td>40</td>\n",
       "      <td>26.491096</td>\n",
       "      <td>80.158363</td>\n",
       "      <td>6.980401</td>\n",
       "      <td>242.864034</td>\n",
       "      <td>rice</td>\n",
       "    </tr>\n",
       "    <tr>\n",
       "      <th>4</th>\n",
       "      <td>78</td>\n",
       "      <td>42</td>\n",
       "      <td>42</td>\n",
       "      <td>20.130175</td>\n",
       "      <td>81.604873</td>\n",
       "      <td>7.628473</td>\n",
       "      <td>262.717340</td>\n",
       "      <td>rice</td>\n",
       "    </tr>\n",
       "  </tbody>\n",
       "</table>\n",
       "</div>"
      ],
      "text/plain": [
       "    N   P   K  temperature   humidity        ph    rainfall label\n",
       "0  90  42  43    20.879744  82.002744  6.502985  202.935536  rice\n",
       "1  85  58  41    21.770462  80.319644  7.038096  226.655537  rice\n",
       "2  60  55  44    23.004459  82.320763  7.840207  263.964248  rice\n",
       "3  74  35  40    26.491096  80.158363  6.980401  242.864034  rice\n",
       "4  78  42  42    20.130175  81.604873  7.628473  262.717340  rice"
      ]
     },
     "execution_count": 3,
     "metadata": {},
     "output_type": "execute_result"
    }
   ],
   "source": [
    "df.head()"
   ]
  },
  {
   "cell_type": "code",
   "execution_count": 4,
   "id": "98aa0c1a",
   "metadata": {},
   "outputs": [
    {
     "data": {
      "text/plain": [
       "22"
      ]
     },
     "execution_count": 4,
     "metadata": {},
     "output_type": "execute_result"
    }
   ],
   "source": [
    "df[\"label\"].nunique()"
   ]
  },
  {
   "cell_type": "code",
   "execution_count": 44,
   "id": "b49fedfb",
   "metadata": {
    "execution": {
     "iopub.execute_input": "2023-04-05T19:18:06.251873Z",
     "iopub.status.busy": "2023-04-05T19:18:06.251133Z",
     "iopub.status.idle": "2023-04-05T19:18:06.267836Z",
     "shell.execute_reply": "2023-04-05T19:18:06.266380Z"
    },
    "papermill": {
     "duration": 0.032286,
     "end_time": "2023-04-05T19:18:06.270550",
     "exception": false,
     "start_time": "2023-04-05T19:18:06.238264",
     "status": "completed"
    },
    "tags": []
   },
   "outputs": [
    {
     "data": {
      "text/html": [
       "<div>\n",
       "<style scoped>\n",
       "    .dataframe tbody tr th:only-of-type {\n",
       "        vertical-align: middle;\n",
       "    }\n",
       "\n",
       "    .dataframe tbody tr th {\n",
       "        vertical-align: top;\n",
       "    }\n",
       "\n",
       "    .dataframe thead th {\n",
       "        text-align: right;\n",
       "    }\n",
       "</style>\n",
       "<table border=\"1\" class=\"dataframe\">\n",
       "  <thead>\n",
       "    <tr style=\"text-align: right;\">\n",
       "      <th></th>\n",
       "      <th>N</th>\n",
       "      <th>P</th>\n",
       "      <th>K</th>\n",
       "      <th>temperature</th>\n",
       "      <th>humidity</th>\n",
       "      <th>ph</th>\n",
       "      <th>rainfall</th>\n",
       "      <th>label</th>\n",
       "    </tr>\n",
       "  </thead>\n",
       "  <tbody>\n",
       "    <tr>\n",
       "      <th>2180</th>\n",
       "      <td>80</td>\n",
       "      <td>18</td>\n",
       "      <td>31</td>\n",
       "      <td>24.029525</td>\n",
       "      <td>58.848806</td>\n",
       "      <td>7.303033</td>\n",
       "      <td>134.680397</td>\n",
       "      <td>coffee</td>\n",
       "    </tr>\n",
       "    <tr>\n",
       "      <th>2181</th>\n",
       "      <td>101</td>\n",
       "      <td>31</td>\n",
       "      <td>26</td>\n",
       "      <td>26.708975</td>\n",
       "      <td>69.711841</td>\n",
       "      <td>6.861235</td>\n",
       "      <td>158.860889</td>\n",
       "      <td>coffee</td>\n",
       "    </tr>\n",
       "    <tr>\n",
       "      <th>2182</th>\n",
       "      <td>103</td>\n",
       "      <td>33</td>\n",
       "      <td>33</td>\n",
       "      <td>26.717174</td>\n",
       "      <td>50.501485</td>\n",
       "      <td>7.131436</td>\n",
       "      <td>126.807398</td>\n",
       "      <td>coffee</td>\n",
       "    </tr>\n",
       "    <tr>\n",
       "      <th>2183</th>\n",
       "      <td>93</td>\n",
       "      <td>26</td>\n",
       "      <td>27</td>\n",
       "      <td>24.592457</td>\n",
       "      <td>56.468296</td>\n",
       "      <td>7.288212</td>\n",
       "      <td>137.704405</td>\n",
       "      <td>coffee</td>\n",
       "    </tr>\n",
       "    <tr>\n",
       "      <th>2184</th>\n",
       "      <td>104</td>\n",
       "      <td>35</td>\n",
       "      <td>28</td>\n",
       "      <td>27.510061</td>\n",
       "      <td>50.666872</td>\n",
       "      <td>6.983732</td>\n",
       "      <td>143.995555</td>\n",
       "      <td>coffee</td>\n",
       "    </tr>\n",
       "    <tr>\n",
       "      <th>2185</th>\n",
       "      <td>116</td>\n",
       "      <td>36</td>\n",
       "      <td>25</td>\n",
       "      <td>27.578476</td>\n",
       "      <td>58.525343</td>\n",
       "      <td>6.172090</td>\n",
       "      <td>156.681037</td>\n",
       "      <td>coffee</td>\n",
       "    </tr>\n",
       "    <tr>\n",
       "      <th>2186</th>\n",
       "      <td>107</td>\n",
       "      <td>38</td>\n",
       "      <td>29</td>\n",
       "      <td>26.650693</td>\n",
       "      <td>57.566957</td>\n",
       "      <td>6.351182</td>\n",
       "      <td>145.105065</td>\n",
       "      <td>coffee</td>\n",
       "    </tr>\n",
       "    <tr>\n",
       "      <th>2187</th>\n",
       "      <td>101</td>\n",
       "      <td>33</td>\n",
       "      <td>33</td>\n",
       "      <td>26.972516</td>\n",
       "      <td>62.018363</td>\n",
       "      <td>6.908671</td>\n",
       "      <td>142.861079</td>\n",
       "      <td>coffee</td>\n",
       "    </tr>\n",
       "    <tr>\n",
       "      <th>2188</th>\n",
       "      <td>107</td>\n",
       "      <td>31</td>\n",
       "      <td>31</td>\n",
       "      <td>23.171246</td>\n",
       "      <td>52.978412</td>\n",
       "      <td>6.766184</td>\n",
       "      <td>153.120164</td>\n",
       "      <td>coffee</td>\n",
       "    </tr>\n",
       "    <tr>\n",
       "      <th>2189</th>\n",
       "      <td>99</td>\n",
       "      <td>16</td>\n",
       "      <td>30</td>\n",
       "      <td>23.526521</td>\n",
       "      <td>65.443409</td>\n",
       "      <td>6.392792</td>\n",
       "      <td>186.172820</td>\n",
       "      <td>coffee</td>\n",
       "    </tr>\n",
       "    <tr>\n",
       "      <th>2190</th>\n",
       "      <td>103</td>\n",
       "      <td>40</td>\n",
       "      <td>30</td>\n",
       "      <td>27.309018</td>\n",
       "      <td>55.196224</td>\n",
       "      <td>6.348316</td>\n",
       "      <td>141.483164</td>\n",
       "      <td>coffee</td>\n",
       "    </tr>\n",
       "    <tr>\n",
       "      <th>2191</th>\n",
       "      <td>118</td>\n",
       "      <td>31</td>\n",
       "      <td>34</td>\n",
       "      <td>27.548230</td>\n",
       "      <td>62.881792</td>\n",
       "      <td>6.123796</td>\n",
       "      <td>181.417081</td>\n",
       "      <td>coffee</td>\n",
       "    </tr>\n",
       "    <tr>\n",
       "      <th>2192</th>\n",
       "      <td>106</td>\n",
       "      <td>21</td>\n",
       "      <td>35</td>\n",
       "      <td>25.627355</td>\n",
       "      <td>57.041511</td>\n",
       "      <td>7.428524</td>\n",
       "      <td>188.550654</td>\n",
       "      <td>coffee</td>\n",
       "    </tr>\n",
       "    <tr>\n",
       "      <th>2193</th>\n",
       "      <td>116</td>\n",
       "      <td>38</td>\n",
       "      <td>34</td>\n",
       "      <td>23.292503</td>\n",
       "      <td>50.045570</td>\n",
       "      <td>6.020947</td>\n",
       "      <td>183.468585</td>\n",
       "      <td>coffee</td>\n",
       "    </tr>\n",
       "    <tr>\n",
       "      <th>2194</th>\n",
       "      <td>97</td>\n",
       "      <td>35</td>\n",
       "      <td>26</td>\n",
       "      <td>24.914610</td>\n",
       "      <td>53.741447</td>\n",
       "      <td>6.334610</td>\n",
       "      <td>166.254931</td>\n",
       "      <td>coffee</td>\n",
       "    </tr>\n",
       "    <tr>\n",
       "      <th>2195</th>\n",
       "      <td>107</td>\n",
       "      <td>34</td>\n",
       "      <td>32</td>\n",
       "      <td>26.774637</td>\n",
       "      <td>66.413269</td>\n",
       "      <td>6.780064</td>\n",
       "      <td>177.774507</td>\n",
       "      <td>coffee</td>\n",
       "    </tr>\n",
       "    <tr>\n",
       "      <th>2196</th>\n",
       "      <td>99</td>\n",
       "      <td>15</td>\n",
       "      <td>27</td>\n",
       "      <td>27.417112</td>\n",
       "      <td>56.636362</td>\n",
       "      <td>6.086922</td>\n",
       "      <td>127.924610</td>\n",
       "      <td>coffee</td>\n",
       "    </tr>\n",
       "    <tr>\n",
       "      <th>2197</th>\n",
       "      <td>118</td>\n",
       "      <td>33</td>\n",
       "      <td>30</td>\n",
       "      <td>24.131797</td>\n",
       "      <td>67.225123</td>\n",
       "      <td>6.362608</td>\n",
       "      <td>173.322839</td>\n",
       "      <td>coffee</td>\n",
       "    </tr>\n",
       "    <tr>\n",
       "      <th>2198</th>\n",
       "      <td>117</td>\n",
       "      <td>32</td>\n",
       "      <td>34</td>\n",
       "      <td>26.272418</td>\n",
       "      <td>52.127394</td>\n",
       "      <td>6.758793</td>\n",
       "      <td>127.175293</td>\n",
       "      <td>coffee</td>\n",
       "    </tr>\n",
       "    <tr>\n",
       "      <th>2199</th>\n",
       "      <td>104</td>\n",
       "      <td>18</td>\n",
       "      <td>30</td>\n",
       "      <td>23.603016</td>\n",
       "      <td>60.396475</td>\n",
       "      <td>6.779833</td>\n",
       "      <td>140.937041</td>\n",
       "      <td>coffee</td>\n",
       "    </tr>\n",
       "  </tbody>\n",
       "</table>\n",
       "</div>"
      ],
      "text/plain": [
       "        N   P   K  temperature   humidity        ph    rainfall   label\n",
       "2180   80  18  31    24.029525  58.848806  7.303033  134.680397  coffee\n",
       "2181  101  31  26    26.708975  69.711841  6.861235  158.860889  coffee\n",
       "2182  103  33  33    26.717174  50.501485  7.131436  126.807398  coffee\n",
       "2183   93  26  27    24.592457  56.468296  7.288212  137.704405  coffee\n",
       "2184  104  35  28    27.510061  50.666872  6.983732  143.995555  coffee\n",
       "2185  116  36  25    27.578476  58.525343  6.172090  156.681037  coffee\n",
       "2186  107  38  29    26.650693  57.566957  6.351182  145.105065  coffee\n",
       "2187  101  33  33    26.972516  62.018363  6.908671  142.861079  coffee\n",
       "2188  107  31  31    23.171246  52.978412  6.766184  153.120164  coffee\n",
       "2189   99  16  30    23.526521  65.443409  6.392792  186.172820  coffee\n",
       "2190  103  40  30    27.309018  55.196224  6.348316  141.483164  coffee\n",
       "2191  118  31  34    27.548230  62.881792  6.123796  181.417081  coffee\n",
       "2192  106  21  35    25.627355  57.041511  7.428524  188.550654  coffee\n",
       "2193  116  38  34    23.292503  50.045570  6.020947  183.468585  coffee\n",
       "2194   97  35  26    24.914610  53.741447  6.334610  166.254931  coffee\n",
       "2195  107  34  32    26.774637  66.413269  6.780064  177.774507  coffee\n",
       "2196   99  15  27    27.417112  56.636362  6.086922  127.924610  coffee\n",
       "2197  118  33  30    24.131797  67.225123  6.362608  173.322839  coffee\n",
       "2198  117  32  34    26.272418  52.127394  6.758793  127.175293  coffee\n",
       "2199  104  18  30    23.603016  60.396475  6.779833  140.937041  coffee"
      ]
     },
     "execution_count": 44,
     "metadata": {},
     "output_type": "execute_result"
    }
   ],
   "source": [
    "df.tail(20)"
   ]
  },
  {
   "cell_type": "code",
   "execution_count": 6,
   "id": "4f7b865a",
   "metadata": {
    "execution": {
     "iopub.execute_input": "2023-04-05T19:18:06.294958Z",
     "iopub.status.busy": "2023-04-05T19:18:06.294121Z",
     "iopub.status.idle": "2023-04-05T19:18:06.321502Z",
     "shell.execute_reply": "2023-04-05T19:18:06.320041Z"
    },
    "papermill": {
     "duration": 0.042805,
     "end_time": "2023-04-05T19:18:06.324353",
     "exception": false,
     "start_time": "2023-04-05T19:18:06.281548",
     "status": "completed"
    },
    "tags": []
   },
   "outputs": [
    {
     "name": "stdout",
     "output_type": "stream",
     "text": [
      "<class 'pandas.core.frame.DataFrame'>\n",
      "RangeIndex: 2200 entries, 0 to 2199\n",
      "Data columns (total 8 columns):\n",
      " #   Column       Non-Null Count  Dtype  \n",
      "---  ------       --------------  -----  \n",
      " 0   N            2200 non-null   int64  \n",
      " 1   P            2200 non-null   int64  \n",
      " 2   K            2200 non-null   int64  \n",
      " 3   temperature  2200 non-null   float64\n",
      " 4   humidity     2200 non-null   float64\n",
      " 5   ph           2200 non-null   float64\n",
      " 6   rainfall     2200 non-null   float64\n",
      " 7   label        2200 non-null   object \n",
      "dtypes: float64(4), int64(3), object(1)\n",
      "memory usage: 137.6+ KB\n"
     ]
    }
   ],
   "source": [
    "df.info()"
   ]
  },
  {
   "cell_type": "code",
   "execution_count": 7,
   "id": "32b139be",
   "metadata": {
    "execution": {
     "iopub.execute_input": "2023-04-05T19:18:06.348381Z",
     "iopub.status.busy": "2023-04-05T19:18:06.347951Z",
     "iopub.status.idle": "2023-04-05T19:18:06.356534Z",
     "shell.execute_reply": "2023-04-05T19:18:06.355206Z"
    },
    "papermill": {
     "duration": 0.023377,
     "end_time": "2023-04-05T19:18:06.358978",
     "exception": false,
     "start_time": "2023-04-05T19:18:06.335601",
     "status": "completed"
    },
    "tags": []
   },
   "outputs": [
    {
     "data": {
      "text/plain": [
       "(2200, 8)"
      ]
     },
     "execution_count": 7,
     "metadata": {},
     "output_type": "execute_result"
    }
   ],
   "source": [
    "df.shape"
   ]
  },
  {
   "cell_type": "code",
   "execution_count": 8,
   "id": "736fedeb",
   "metadata": {
    "execution": {
     "iopub.execute_input": "2023-04-05T19:18:06.383599Z",
     "iopub.status.busy": "2023-04-05T19:18:06.383202Z",
     "iopub.status.idle": "2023-04-05T19:18:06.391531Z",
     "shell.execute_reply": "2023-04-05T19:18:06.390283Z"
    },
    "papermill": {
     "duration": 0.023634,
     "end_time": "2023-04-05T19:18:06.394291",
     "exception": false,
     "start_time": "2023-04-05T19:18:06.370657",
     "status": "completed"
    },
    "tags": []
   },
   "outputs": [
    {
     "data": {
      "text/plain": [
       "17600"
      ]
     },
     "execution_count": 8,
     "metadata": {},
     "output_type": "execute_result"
    }
   ],
   "source": [
    "df.size"
   ]
  },
  {
   "cell_type": "code",
   "execution_count": 9,
   "id": "e348ac3a",
   "metadata": {
    "execution": {
     "iopub.execute_input": "2023-04-05T19:18:06.420044Z",
     "iopub.status.busy": "2023-04-05T19:18:06.419577Z",
     "iopub.status.idle": "2023-04-05T19:18:06.427647Z",
     "shell.execute_reply": "2023-04-05T19:18:06.426632Z"
    },
    "papermill": {
     "duration": 0.024032,
     "end_time": "2023-04-05T19:18:06.430121",
     "exception": false,
     "start_time": "2023-04-05T19:18:06.406089",
     "status": "completed"
    },
    "tags": []
   },
   "outputs": [
    {
     "data": {
      "text/plain": [
       "Index(['N', 'P', 'K', 'temperature', 'humidity', 'ph', 'rainfall', 'label'], dtype='object')"
      ]
     },
     "execution_count": 9,
     "metadata": {},
     "output_type": "execute_result"
    }
   ],
   "source": [
    "df.columns"
   ]
  },
  {
   "cell_type": "code",
   "execution_count": 10,
   "id": "3e3fc150",
   "metadata": {
    "execution": {
     "iopub.execute_input": "2023-04-05T19:18:06.455087Z",
     "iopub.status.busy": "2023-04-05T19:18:06.454658Z",
     "iopub.status.idle": "2023-04-05T19:18:06.463936Z",
     "shell.execute_reply": "2023-04-05T19:18:06.462516Z"
    },
    "papermill": {
     "duration": 0.025408,
     "end_time": "2023-04-05T19:18:06.466997",
     "exception": false,
     "start_time": "2023-04-05T19:18:06.441589",
     "status": "completed"
    },
    "tags": []
   },
   "outputs": [
    {
     "data": {
      "text/plain": [
       "array(['rice', 'maize', 'chickpea', 'kidneybeans', 'pigeonpeas',\n",
       "       'mothbeans', 'mungbean', 'blackgram', 'lentil', 'pomegranate',\n",
       "       'banana', 'mango', 'grapes', 'watermelon', 'muskmelon', 'apple',\n",
       "       'orange', 'papaya', 'coconut', 'cotton', 'jute', 'coffee'],\n",
       "      dtype=object)"
      ]
     },
     "execution_count": 10,
     "metadata": {},
     "output_type": "execute_result"
    }
   ],
   "source": [
    "df.label.unique()"
   ]
  },
  {
   "cell_type": "code",
   "execution_count": 11,
   "id": "c6d6767a",
   "metadata": {
    "execution": {
     "iopub.execute_input": "2023-04-05T19:18:06.491972Z",
     "iopub.status.busy": "2023-04-05T19:18:06.491510Z",
     "iopub.status.idle": "2023-04-05T19:18:06.501536Z",
     "shell.execute_reply": "2023-04-05T19:18:06.500028Z"
    },
    "papermill": {
     "duration": 0.025357,
     "end_time": "2023-04-05T19:18:06.503991",
     "exception": false,
     "start_time": "2023-04-05T19:18:06.478634",
     "status": "completed"
    },
    "tags": []
   },
   "outputs": [
    {
     "data": {
      "text/plain": [
       "N                int64\n",
       "P                int64\n",
       "K                int64\n",
       "temperature    float64\n",
       "humidity       float64\n",
       "ph             float64\n",
       "rainfall       float64\n",
       "label           object\n",
       "dtype: object"
      ]
     },
     "execution_count": 11,
     "metadata": {},
     "output_type": "execute_result"
    }
   ],
   "source": [
    "df.dtypes"
   ]
  },
  {
   "cell_type": "code",
   "execution_count": 12,
   "id": "c55f0e07",
   "metadata": {
    "execution": {
     "iopub.execute_input": "2023-04-05T19:18:06.532328Z",
     "iopub.status.busy": "2023-04-05T19:18:06.530297Z",
     "iopub.status.idle": "2023-04-05T19:18:07.203103Z",
     "shell.execute_reply": "2023-04-05T19:18:07.202135Z"
    },
    "papermill": {
     "duration": 0.691806,
     "end_time": "2023-04-05T19:18:07.207579",
     "exception": false,
     "start_time": "2023-04-05T19:18:06.515773",
     "status": "completed"
    },
    "tags": []
   },
   "outputs": [
    {
     "data": {
      "text/plain": [
       "<AxesSubplot:>"
      ]
     },
     "execution_count": 12,
     "metadata": {},
     "output_type": "execute_result"
    },
    {
     "data": {
      "image/png": "[encoded data removed]",
      "text/plain": [
       "<Figure size 864x576 with 2 Axes>"
      ]
     },
     "metadata": {
      "needs_background": "light"
     },
     "output_type": "display_data"
    }
   ],
   "source": [
    "plt.figure(figsize=(12,8))\n",
    "sns.heatmap(df.corr(),annot=True)"
   ]
  },
  {
   "cell_type": "markdown",
   "id": "65ac71ea",
   "metadata": {
    "papermill": {
     "duration": 0.012767,
     "end_time": "2023-04-05T19:18:07.237677",
     "exception": false,
     "start_time": "2023-04-05T19:18:07.224910",
     "status": "completed"
    },
    "tags": []
   },
   "source": [
    "#Seperating features and target label "
   ]
  },
  {
   "cell_type": "code",
   "execution_count": 13,
   "id": "7c91b61c",
   "metadata": {
    "execution": {
     "iopub.execute_input": "2023-04-05T19:18:07.267659Z",
     "iopub.status.busy": "2023-04-05T19:18:07.267256Z",
     "iopub.status.idle": "2023-04-05T19:18:07.275360Z",
     "shell.execute_reply": "2023-04-05T19:18:07.273950Z"
    },
    "papermill": {
     "duration": 0.026742,
     "end_time": "2023-04-05T19:18:07.278394",
     "exception": false,
     "start_time": "2023-04-05T19:18:07.251652",
     "status": "completed"
    },
    "tags": []
   },
   "outputs": [],
   "source": [
    "features = df[['N','P','K','temperature','humidity','ph','rainfall']]"
   ]
  },
  {
   "cell_type": "code",
   "execution_count": 14,
   "id": "2a590078",
   "metadata": {
    "execution": {
     "iopub.execute_input": "2023-04-05T19:18:07.311174Z",
     "iopub.status.busy": "2023-04-05T19:18:07.310200Z",
     "iopub.status.idle": "2023-04-05T19:18:07.315833Z",
     "shell.execute_reply": "2023-04-05T19:18:07.314462Z"
    },
    "papermill": {
     "duration": 0.026682,
     "end_time": "2023-04-05T19:18:07.318603",
     "exception": false,
     "start_time": "2023-04-05T19:18:07.291921",
     "status": "completed"
    },
    "tags": []
   },
   "outputs": [],
   "source": [
    "target = df['label']\n",
    "labels = df['label']"
   ]
  },
  {
   "cell_type": "code",
   "execution_count": 15,
   "id": "7fcf13a1",
   "metadata": {
    "execution": {
     "iopub.execute_input": "2023-04-05T19:18:07.348458Z",
     "iopub.status.busy": "2023-04-05T19:18:07.347399Z",
     "iopub.status.idle": "2023-04-05T19:18:07.353476Z",
     "shell.execute_reply": "2023-04-05T19:18:07.352233Z"
    },
    "papermill": {
     "duration": 0.024423,
     "end_time": "2023-04-05T19:18:07.356290",
     "exception": false,
     "start_time": "2023-04-05T19:18:07.331867",
     "status": "completed"
    },
    "tags": []
   },
   "outputs": [],
   "source": [
    "acc=[]\n",
    "model = []"
   ]
  },
  {
   "cell_type": "markdown",
   "id": "f64ddbe4",
   "metadata": {
    "papermill": {
     "duration": 0.01234,
     "end_time": "2023-04-05T19:18:07.381704",
     "exception": false,
     "start_time": "2023-04-05T19:18:07.369364",
     "status": "completed"
    },
    "tags": []
   },
   "source": [
    "#Splitting into train and test data"
   ]
  },
  {
   "cell_type": "code",
   "execution_count": 16,
   "id": "f2c492a0",
   "metadata": {
    "execution": {
     "iopub.execute_input": "2023-04-05T19:18:07.412066Z",
     "iopub.status.busy": "2023-04-05T19:18:07.410561Z",
     "iopub.status.idle": "2023-04-05T19:18:07.704429Z",
     "shell.execute_reply": "2023-04-05T19:18:07.702967Z"
    },
    "papermill": {
     "duration": 0.313405,
     "end_time": "2023-04-05T19:18:07.708217",
     "exception": false,
     "start_time": "2023-04-05T19:18:07.394812",
     "status": "completed"
    },
    "tags": []
   },
   "outputs": [],
   "source": [
    "from sklearn.model_selection import train_test_split"
   ]
  },
  {
   "cell_type": "code",
   "execution_count": 17,
   "id": "9914c053",
   "metadata": {
    "execution": {
     "iopub.execute_input": "2023-04-05T19:18:07.736754Z",
     "iopub.status.busy": "2023-04-05T19:18:07.735995Z",
     "iopub.status.idle": "2023-04-05T19:18:07.745446Z",
     "shell.execute_reply": "2023-04-05T19:18:07.744456Z"
    },
    "papermill": {
     "duration": 0.026951,
     "end_time": "2023-04-05T19:18:07.748049",
     "exception": false,
     "start_time": "2023-04-05T19:18:07.721098",
     "status": "completed"
    },
    "tags": []
   },
   "outputs": [],
   "source": [
    "xtrain,xtest,ytrain,ytest = train_test_split(features,target,random_state=42,test_size=0.3)"
   ]
  },
  {
   "cell_type": "markdown",
   "id": "94291cde",
   "metadata": {
    "papermill": {
     "duration": 0.012529,
     "end_time": "2023-04-05T19:18:07.774032",
     "exception": false,
     "start_time": "2023-04-05T19:18:07.761503",
     "status": "completed"
    },
    "tags": []
   },
   "source": [
    "#Decision Tree"
   ]
  },
  {
   "cell_type": "code",
   "execution_count": 18,
   "id": "8bbbf4ce",
   "metadata": {
    "execution": {
     "iopub.execute_input": "2023-04-05T19:18:07.802132Z",
     "iopub.status.busy": "2023-04-05T19:18:07.801559Z",
     "iopub.status.idle": "2023-04-05T19:18:08.112413Z",
     "shell.execute_reply": "2023-04-05T19:18:08.110926Z"
    },
    "papermill": {
     "duration": 0.328477,
     "end_time": "2023-04-05T19:18:08.115396",
     "exception": false,
     "start_time": "2023-04-05T19:18:07.786919",
     "status": "completed"
    },
    "tags": []
   },
   "outputs": [
    {
     "name": "stdout",
     "output_type": "stream",
     "text": [
      "DecisionTrees's Accuracy is:  86.81818181818181\n",
      "              precision    recall  f1-score   support\n",
      "\n",
      "       apple       1.00      1.00      1.00        34\n",
      "      banana       1.00      1.00      1.00        26\n",
      "   blackgram       0.57      1.00      0.72        26\n",
      "    chickpea       1.00      0.97      0.99        34\n",
      "     coconut       1.00      1.00      1.00        33\n",
      "      coffee       1.00      1.00      1.00        30\n",
      "      cotton       1.00      1.00      1.00        28\n",
      "      grapes       1.00      1.00      1.00        23\n",
      "        jute       0.71      0.94      0.81        34\n",
      " kidneybeans       0.00      0.00      0.00        36\n",
      "      lentil       0.50      1.00      0.67        22\n",
      "       maize       1.00      1.00      1.00        26\n",
      "       mango       1.00      1.00      1.00        32\n",
      "   mothbeans       0.00      0.00      0.00        34\n",
      "    mungbean       0.97      1.00      0.98        30\n",
      "   muskmelon       1.00      1.00      1.00        24\n",
      "      orange       1.00      1.00      1.00        25\n",
      "      papaya       0.97      0.92      0.94        37\n",
      "  pigeonpeas       0.57      1.00      0.73        37\n",
      " pomegranate       1.00      1.00      1.00        38\n",
      "        rice       0.89      0.61      0.72        28\n",
      "  watermelon       1.00      1.00      1.00        23\n",
      "\n",
      "    accuracy                           0.87       660\n",
      "   macro avg       0.83      0.88      0.84       660\n",
      "weighted avg       0.81      0.87      0.83       660\n",
      "\n"
     ]
    },
    {
     "name": "stderr",
     "output_type": "stream",
     "text": [
      "C:\\Users\\abdou\\anaconda3\\lib\\site-packages\\sklearn\\metrics\\_classification.py:1245: UndefinedMetricWarning: Precision and F-score are ill-defined and being set to 0.0 in labels with no predicted samples. Use `zero_division` parameter to control this behavior.\n",
      "  _warn_prf(average, modifier, msg_start, len(result))\n",
      "C:\\Users\\abdou\\anaconda3\\lib\\site-packages\\sklearn\\metrics\\_classification.py:1245: UndefinedMetricWarning: Precision and F-score are ill-defined and being set to 0.0 in labels with no predicted samples. Use `zero_division` parameter to control this behavior.\n",
      "  _warn_prf(average, modifier, msg_start, len(result))\n",
      "C:\\Users\\abdou\\anaconda3\\lib\\site-packages\\sklearn\\metrics\\_classification.py:1245: UndefinedMetricWarning: Precision and F-score are ill-defined and being set to 0.0 in labels with no predicted samples. Use `zero_division` parameter to control this behavior.\n",
      "  _warn_prf(average, modifier, msg_start, len(result))\n"
     ]
    }
   ],
   "source": [
    "from sklearn.tree import DecisionTreeClassifier\n",
    "from sklearn import metrics\n",
    "from sklearn.metrics import classification_report\n",
    "dt = DecisionTreeClassifier(criterion=\"entropy\",random_state=42,max_depth=5)\n",
    "dt.fit(xtrain,ytrain)\n",
    "predicted_values = dt.predict(xtest)\n",
    "x = metrics.accuracy_score(ytest, predicted_values)\n",
    "acc.append(x)\n",
    "model.append('Decision Tree')\n",
    "print(\"DecisionTrees's Accuracy is: \", x*100)\n",
    "\n",
    "print(classification_report(ytest,predicted_values))"
   ]
  },
  {
   "cell_type": "code",
   "execution_count": 19,
   "id": "f741ecee",
   "metadata": {
    "execution": {
     "iopub.execute_input": "2023-04-05T19:18:08.144904Z",
     "iopub.status.busy": "2023-04-05T19:18:08.143997Z",
     "iopub.status.idle": "2023-04-05T19:18:08.149539Z",
     "shell.execute_reply": "2023-04-05T19:18:08.148268Z"
    },
    "papermill": {
     "duration": 0.023478,
     "end_time": "2023-04-05T19:18:08.152234",
     "exception": false,
     "start_time": "2023-04-05T19:18:08.128756",
     "status": "completed"
    },
    "tags": []
   },
   "outputs": [],
   "source": [
    "from sklearn.model_selection import cross_val_score"
   ]
  },
  {
   "cell_type": "code",
   "execution_count": 20,
   "id": "24c716b1",
   "metadata": {
    "execution": {
     "iopub.execute_input": "2023-04-05T19:18:08.180358Z",
     "iopub.status.busy": "2023-04-05T19:18:08.179886Z",
     "iopub.status.idle": "2023-04-05T19:18:08.298175Z",
     "shell.execute_reply": "2023-04-05T19:18:08.296818Z"
    },
    "papermill": {
     "duration": 0.13581,
     "end_time": "2023-04-05T19:18:08.301044",
     "exception": false,
     "start_time": "2023-04-05T19:18:08.165234",
     "status": "completed"
    },
    "tags": []
   },
   "outputs": [
    {
     "data": {
      "text/plain": [
       "array([0.93636364, 0.91136364, 0.92045455, 0.87272727, 0.93636364])"
      ]
     },
     "execution_count": 20,
     "metadata": {},
     "output_type": "execute_result"
    }
   ],
   "source": [
    "score = cross_val_score(dt, features, target,cv=5)\n",
    "score"
   ]
  },
  {
   "cell_type": "markdown",
   "id": "d50c7652",
   "metadata": {
    "papermill": {
     "duration": 0.0135,
     "end_time": "2023-04-05T19:18:08.328273",
     "exception": false,
     "start_time": "2023-04-05T19:18:08.314773",
     "status": "completed"
    },
    "tags": []
   },
   "source": [
    "#Saving trained Decision Tree model"
   ]
  },
  {
   "cell_type": "code",
   "execution_count": 21,
   "id": "861233cf",
   "metadata": {
    "execution": {
     "iopub.execute_input": "2023-04-05T19:18:08.357758Z",
     "iopub.status.busy": "2023-04-05T19:18:08.357334Z",
     "iopub.status.idle": "2023-04-05T19:18:08.363687Z",
     "shell.execute_reply": "2023-04-05T19:18:08.362724Z"
    },
    "papermill": {
     "duration": 0.024087,
     "end_time": "2023-04-05T19:18:08.366270",
     "exception": false,
     "start_time": "2023-04-05T19:18:08.342183",
     "status": "completed"
    },
    "tags": []
   },
   "outputs": [],
   "source": [
    "import pickle as pk\n",
    "pk.dump(dt,open('Deceision Tree','wb'))"
   ]
  },
  {
   "cell_type": "markdown",
   "id": "85b16981",
   "metadata": {
    "papermill": {
     "duration": 0.012788,
     "end_time": "2023-04-05T19:18:08.392554",
     "exception": false,
     "start_time": "2023-04-05T19:18:08.379766",
     "status": "completed"
    },
    "tags": []
   },
   "source": [
    "#Guassian Naive Bayes"
   ]
  },
  {
   "cell_type": "code",
   "execution_count": 22,
   "id": "58c22b5b",
   "metadata": {
    "execution": {
     "iopub.execute_input": "2023-04-05T19:18:08.423475Z",
     "iopub.status.busy": "2023-04-05T19:18:08.422288Z",
     "iopub.status.idle": "2023-04-05T19:18:08.467439Z",
     "shell.execute_reply": "2023-04-05T19:18:08.465336Z"
    },
    "papermill": {
     "duration": 0.0625,
     "end_time": "2023-04-05T19:18:08.470213",
     "exception": false,
     "start_time": "2023-04-05T19:18:08.407713",
     "status": "completed"
    },
    "tags": []
   },
   "outputs": [
    {
     "name": "stdout",
     "output_type": "stream",
     "text": [
      "Naive Bayes's Accuracy is:  0.9939393939393939\n",
      "              precision    recall  f1-score   support\n",
      "\n",
      "       apple       1.00      1.00      1.00        34\n",
      "      banana       1.00      1.00      1.00        26\n",
      "   blackgram       1.00      1.00      1.00        26\n",
      "    chickpea       1.00      1.00      1.00        34\n",
      "     coconut       1.00      1.00      1.00        33\n",
      "      coffee       1.00      1.00      1.00        30\n",
      "      cotton       1.00      1.00      1.00        28\n",
      "      grapes       1.00      1.00      1.00        23\n",
      "        jute       0.89      1.00      0.94        34\n",
      " kidneybeans       1.00      1.00      1.00        36\n",
      "      lentil       1.00      1.00      1.00        22\n",
      "       maize       1.00      1.00      1.00        26\n",
      "       mango       1.00      1.00      1.00        32\n",
      "   mothbeans       1.00      1.00      1.00        34\n",
      "    mungbean       1.00      1.00      1.00        30\n",
      "   muskmelon       1.00      1.00      1.00        24\n",
      "      orange       1.00      1.00      1.00        25\n",
      "      papaya       1.00      1.00      1.00        37\n",
      "  pigeonpeas       1.00      1.00      1.00        37\n",
      " pomegranate       1.00      1.00      1.00        38\n",
      "        rice       1.00      0.86      0.92        28\n",
      "  watermelon       1.00      1.00      1.00        23\n",
      "\n",
      "    accuracy                           0.99       660\n",
      "   macro avg       1.00      0.99      0.99       660\n",
      "weighted avg       0.99      0.99      0.99       660\n",
      "\n"
     ]
    }
   ],
   "source": [
    "from sklearn.naive_bayes import GaussianNB \n",
    "gnb = GaussianNB()\n",
    "\n",
    "gnb.fit(xtrain,ytrain)\n",
    "\n",
    "predicted_values = gnb.predict(xtest)\n",
    "x = metrics.accuracy_score(ytest, predicted_values)\n",
    "acc.append(x)\n",
    "model.append('Naive Bayes')\n",
    "print(\"Naive Bayes's Accuracy is: \", x)\n",
    "\n",
    "print(classification_report(ytest,predicted_values))"
   ]
  },
  {
   "cell_type": "code",
   "execution_count": 23,
   "id": "51adbcc2",
   "metadata": {
    "execution": {
     "iopub.execute_input": "2023-04-05T19:18:08.500772Z",
     "iopub.status.busy": "2023-04-05T19:18:08.500328Z",
     "iopub.status.idle": "2023-04-05T19:18:08.565353Z",
     "shell.execute_reply": "2023-04-05T19:18:08.564036Z"
    },
    "papermill": {
     "duration": 0.083821,
     "end_time": "2023-04-05T19:18:08.568042",
     "exception": false,
     "start_time": "2023-04-05T19:18:08.484221",
     "status": "completed"
    },
    "tags": []
   },
   "outputs": [
    {
     "data": {
      "text/plain": [
       "array([0.99772727, 0.99545455, 0.99545455, 0.99545455, 0.99090909])"
      ]
     },
     "execution_count": 23,
     "metadata": {},
     "output_type": "execute_result"
    }
   ],
   "source": [
    "score = cross_val_score(gnb,features,target,cv=5)\n",
    "score"
   ]
  },
  {
   "cell_type": "code",
   "execution_count": 24,
   "id": "b8dfa1db",
   "metadata": {
    "execution": {
     "iopub.execute_input": "2023-04-05T19:18:08.599452Z",
     "iopub.status.busy": "2023-04-05T19:18:08.598688Z",
     "iopub.status.idle": "2023-04-05T19:18:08.605070Z",
     "shell.execute_reply": "2023-04-05T19:18:08.603589Z"
    },
    "papermill": {
     "duration": 0.025435,
     "end_time": "2023-04-05T19:18:08.608130",
     "exception": false,
     "start_time": "2023-04-05T19:18:08.582695",
     "status": "completed"
    },
    "tags": []
   },
   "outputs": [],
   "source": [
    "pk.dump(gnb,open('Guassian Naive Bayes','wb'))"
   ]
  },
  {
   "cell_type": "markdown",
   "id": "a91dfd6e",
   "metadata": {
    "papermill": {
     "duration": 0.013944,
     "end_time": "2023-04-05T19:18:08.635363",
     "exception": false,
     "start_time": "2023-04-05T19:18:08.621419",
     "status": "completed"
    },
    "tags": []
   },
   "source": [
    "#Support Vector Machine (SVM)"
   ]
  },
  {
   "cell_type": "code",
   "execution_count": 25,
   "id": "7f04fc7d",
   "metadata": {
    "execution": {
     "iopub.execute_input": "2023-04-05T19:18:08.664645Z",
     "iopub.status.busy": "2023-04-05T19:18:08.664226Z",
     "iopub.status.idle": "2023-04-05T19:18:08.738823Z",
     "shell.execute_reply": "2023-04-05T19:18:08.737567Z"
    },
    "papermill": {
     "duration": 0.092733,
     "end_time": "2023-04-05T19:18:08.741458",
     "exception": false,
     "start_time": "2023-04-05T19:18:08.648725",
     "status": "completed"
    },
    "tags": []
   },
   "outputs": [
    {
     "name": "stdout",
     "output_type": "stream",
     "text": [
      "SVM's Accuracy is:  0.9681818181818181\n",
      "              precision    recall  f1-score   support\n",
      "\n",
      "       apple       1.00      1.00      1.00        34\n",
      "      banana       1.00      1.00      1.00        26\n",
      "   blackgram       0.93      1.00      0.96        26\n",
      "    chickpea       1.00      1.00      1.00        34\n",
      "     coconut       1.00      1.00      1.00        33\n",
      "      coffee       1.00      0.93      0.97        30\n",
      "      cotton       0.97      1.00      0.98        28\n",
      "      grapes       1.00      1.00      1.00        23\n",
      "        jute       0.73      0.97      0.84        34\n",
      " kidneybeans       0.97      1.00      0.99        36\n",
      "      lentil       0.91      0.95      0.93        22\n",
      "       maize       1.00      0.96      0.98        26\n",
      "       mango       0.97      1.00      0.98        32\n",
      "   mothbeans       0.97      0.94      0.96        34\n",
      "    mungbean       1.00      1.00      1.00        30\n",
      "   muskmelon       1.00      1.00      1.00        24\n",
      "      orange       1.00      1.00      1.00        25\n",
      "      papaya       0.97      1.00      0.99        37\n",
      "  pigeonpeas       1.00      0.89      0.94        37\n",
      " pomegranate       1.00      1.00      1.00        38\n",
      "        rice       1.00      0.64      0.78        28\n",
      "  watermelon       1.00      1.00      1.00        23\n",
      "\n",
      "    accuracy                           0.97       660\n",
      "   macro avg       0.97      0.97      0.97       660\n",
      "weighted avg       0.97      0.97      0.97       660\n",
      "\n"
     ]
    }
   ],
   "source": [
    "from sklearn.svm import SVC\n",
    "# data normalization with sklearn\n",
    "from sklearn.preprocessing import MinMaxScaler\n",
    "# fit scaler on training data\n",
    "norm = MinMaxScaler().fit(xtrain)\n",
    "x_train_norm = norm.transform(xtrain)\n",
    "# transform testing dataabs\n",
    "x_test_norm = norm.transform(xtest)\n",
    "SVM = SVC(kernel='poly', degree=3, C=1)\n",
    "SVM.fit(x_train_norm,ytrain)\n",
    "predicted_values = SVM.predict(x_test_norm)\n",
    "x = metrics.accuracy_score(ytest, predicted_values)\n",
    "acc.append(x)\n",
    "model.append('SVM')\n",
    "print(\"SVM's Accuracy is: \", x)\n",
    "\n",
    "print(classification_report(ytest,predicted_values))"
   ]
  },
  {
   "cell_type": "code",
   "execution_count": 26,
   "id": "5c847088",
   "metadata": {
    "execution": {
     "iopub.execute_input": "2023-04-05T19:18:08.771436Z",
     "iopub.status.busy": "2023-04-05T19:18:08.770961Z",
     "iopub.status.idle": "2023-04-05T19:18:09.000836Z",
     "shell.execute_reply": "2023-04-05T19:18:08.999446Z"
    },
    "papermill": {
     "duration": 0.248315,
     "end_time": "2023-04-05T19:18:09.003798",
     "exception": false,
     "start_time": "2023-04-05T19:18:08.755483",
     "status": "completed"
    },
    "tags": []
   },
   "outputs": [
    {
     "data": {
      "text/plain": [
       "array([0.97954545, 0.975     , 0.98863636, 0.98863636, 0.98181818])"
      ]
     },
     "execution_count": 26,
     "metadata": {},
     "output_type": "execute_result"
    }
   ],
   "source": [
    "score = cross_val_score(SVM,features,target,cv=5)\n",
    "score"
   ]
  },
  {
   "cell_type": "code",
   "execution_count": 27,
   "id": "1d67323c",
   "metadata": {
    "execution": {
     "iopub.execute_input": "2023-04-05T19:18:09.036884Z",
     "iopub.status.busy": "2023-04-05T19:18:09.036023Z",
     "iopub.status.idle": "2023-04-05T19:18:09.042403Z",
     "shell.execute_reply": "2023-04-05T19:18:09.041207Z"
    },
    "papermill": {
     "duration": 0.02557,
     "end_time": "2023-04-05T19:18:09.045093",
     "exception": false,
     "start_time": "2023-04-05T19:18:09.019523",
     "status": "completed"
    },
    "tags": []
   },
   "outputs": [],
   "source": [
    "pk.dump(SVM,open('SVM','wb'))"
   ]
  },
  {
   "cell_type": "markdown",
   "id": "645035b7",
   "metadata": {
    "papermill": {
     "duration": 0.013642,
     "end_time": "2023-04-05T19:18:09.072206",
     "exception": false,
     "start_time": "2023-04-05T19:18:09.058564",
     "status": "completed"
    },
    "tags": []
   },
   "source": [
    "#Logistic Regression"
   ]
  },
  {
   "cell_type": "code",
   "execution_count": 28,
   "id": "49a03fa7",
   "metadata": {
    "execution": {
     "iopub.execute_input": "2023-04-05T19:18:09.102548Z",
     "iopub.status.busy": "2023-04-05T19:18:09.102114Z",
     "iopub.status.idle": "2023-04-05T19:18:09.333149Z",
     "shell.execute_reply": "2023-04-05T19:18:09.332024Z"
    },
    "papermill": {
     "duration": 0.24965,
     "end_time": "2023-04-05T19:18:09.336125",
     "exception": false,
     "start_time": "2023-04-05T19:18:09.086475",
     "status": "completed"
    },
    "tags": []
   },
   "outputs": [
    {
     "name": "stdout",
     "output_type": "stream",
     "text": [
      "Logistic Regression's Accuracy is:  0.946969696969697\n",
      "              precision    recall  f1-score   support\n",
      "\n",
      "       apple       1.00      1.00      1.00        34\n",
      "      banana       0.96      1.00      0.98        26\n",
      "   blackgram       0.76      0.85      0.80        26\n",
      "    chickpea       1.00      1.00      1.00        34\n",
      "     coconut       1.00      1.00      1.00        33\n",
      "      coffee       0.97      1.00      0.98        30\n",
      "      cotton       0.87      0.96      0.92        28\n",
      "      grapes       1.00      1.00      1.00        23\n",
      "        jute       0.81      0.88      0.85        34\n",
      " kidneybeans       1.00      0.97      0.99        36\n",
      "      lentil       0.91      0.91      0.91        22\n",
      "       maize       0.95      0.77      0.85        26\n",
      "       mango       0.97      1.00      0.98        32\n",
      "   mothbeans       0.90      0.82      0.86        34\n",
      "    mungbean       0.94      1.00      0.97        30\n",
      "   muskmelon       1.00      1.00      1.00        24\n",
      "      orange       1.00      1.00      1.00        25\n",
      "      papaya       0.94      0.92      0.93        37\n",
      "  pigeonpeas       0.95      0.95      0.95        37\n",
      " pomegranate       1.00      1.00      1.00        38\n",
      "        rice       0.92      0.79      0.85        28\n",
      "  watermelon       1.00      1.00      1.00        23\n",
      "\n",
      "    accuracy                           0.95       660\n",
      "   macro avg       0.95      0.95      0.95       660\n",
      "weighted avg       0.95      0.95      0.95       660\n",
      "\n"
     ]
    },
    {
     "name": "stderr",
     "output_type": "stream",
     "text": [
      "C:\\Users\\abdou\\anaconda3\\lib\\site-packages\\sklearn\\linear_model\\_logistic.py:763: ConvergenceWarning: lbfgs failed to converge (status=1):\n",
      "STOP: TOTAL NO. of ITERATIONS REACHED LIMIT.\n",
      "\n",
      "Increase the number of iterations (max_iter) or scale the data as shown in:\n",
      "    https://scikit-learn.org/stable/modules/preprocessing.html\n",
      "Please also refer to the documentation for alternative solver options:\n",
      "    https://scikit-learn.org/stable/modules/linear_model.html#logistic-regression\n",
      "  n_iter_i = _check_optimize_result(\n"
     ]
    }
   ],
   "source": [
    "from sklearn.linear_model import LogisticRegression\n",
    "\n",
    "LogReg = LogisticRegression(random_state=2)\n",
    "\n",
    "LogReg.fit(xtrain,ytrain)\n",
    "\n",
    "predicted_values = LogReg.predict(xtest)\n",
    "\n",
    "x = metrics.accuracy_score(ytest, predicted_values)\n",
    "acc.append(x)\n",
    "model.append('Logistic Regression')\n",
    "print(\"Logistic Regression's Accuracy is: \", x)\n",
    "\n",
    "print(classification_report(ytest,predicted_values))"
   ]
  },
  {
   "cell_type": "code",
   "execution_count": 29,
   "id": "a2267625",
   "metadata": {
    "execution": {
     "iopub.execute_input": "2023-04-05T19:18:09.366094Z",
     "iopub.status.busy": "2023-04-05T19:18:09.365154Z",
     "iopub.status.idle": "2023-04-05T19:18:09.371090Z",
     "shell.execute_reply": "2023-04-05T19:18:09.370090Z"
    },
    "papermill": {
     "duration": 0.023732,
     "end_time": "2023-04-05T19:18:09.373583",
     "exception": false,
     "start_time": "2023-04-05T19:18:09.349851",
     "status": "completed"
    },
    "tags": []
   },
   "outputs": [],
   "source": [
    "pk.dump(LogReg,open('LogisticRegression','wb'))"
   ]
  },
  {
   "cell_type": "markdown",
   "id": "2b5b73df",
   "metadata": {
    "papermill": {
     "duration": 0.014738,
     "end_time": "2023-04-05T19:18:09.402293",
     "exception": false,
     "start_time": "2023-04-05T19:18:09.387555",
     "status": "completed"
    },
    "tags": []
   },
   "source": [
    "#Random Forest"
   ]
  },
  {
   "cell_type": "code",
   "execution_count": 30,
   "id": "d0f8f6de",
   "metadata": {
    "execution": {
     "iopub.execute_input": "2023-04-05T19:18:09.431944Z",
     "iopub.status.busy": "2023-04-05T19:18:09.430927Z",
     "iopub.status.idle": "2023-04-05T19:18:09.649435Z",
     "shell.execute_reply": "2023-04-05T19:18:09.648094Z"
    },
    "papermill": {
     "duration": 0.235903,
     "end_time": "2023-04-05T19:18:09.651844",
     "exception": false,
     "start_time": "2023-04-05T19:18:09.415941",
     "status": "completed"
    },
    "tags": []
   },
   "outputs": [
    {
     "name": "stdout",
     "output_type": "stream",
     "text": [
      "RF's Accuracy is:  0.9924242424242424\n"
     ]
    }
   ],
   "source": [
    "from sklearn.ensemble import RandomForestClassifier\n",
    "\n",
    "RF = RandomForestClassifier(n_estimators=20, random_state=0)\n",
    "RF.fit(xtrain,ytrain)\n",
    "\n",
    "predicted_values = RF.predict(xtest)\n",
    "\n",
    "x = metrics.accuracy_score(ytest, predicted_values)\n",
    "acc.append(x)\n",
    "model.append('RF')\n",
    "print(\"RF's Accuracy is: \", x)"
   ]
  },
  {
   "cell_type": "markdown",
   "id": "c673ff02",
   "metadata": {
    "papermill": {
     "duration": 0.014127,
     "end_time": "2023-04-05T19:18:09.679797",
     "exception": false,
     "start_time": "2023-04-05T19:18:09.665670",
     "status": "completed"
    },
    "tags": []
   },
   "source": [
    "#Accuracy Comparison"
   ]
  },
  {
   "cell_type": "code",
   "execution_count": 31,
   "id": "2667c92f",
   "metadata": {
    "execution": {
     "iopub.execute_input": "2023-04-05T19:18:09.708875Z",
     "iopub.status.busy": "2023-04-05T19:18:09.708434Z",
     "iopub.status.idle": "2023-04-05T19:18:09.958816Z",
     "shell.execute_reply": "2023-04-05T19:18:09.957458Z"
    },
    "papermill": {
     "duration": 0.268744,
     "end_time": "2023-04-05T19:18:09.962194",
     "exception": false,
     "start_time": "2023-04-05T19:18:09.693450",
     "status": "completed"
    },
    "tags": []
   },
   "outputs": [
    {
     "data": {
      "text/plain": [
       "<AxesSubplot:title={'center':'Accuracy Comparison'}, xlabel='Accuracy', ylabel='Algorithm'>"
      ]
     },
     "execution_count": 31,
     "metadata": {},
     "output_type": "execute_result"
    },
    {
     "data": {
      "image/png": "[encoded data removed]",
      "text/plain": [
       "<Figure size 720x360 with 1 Axes>"
      ]
     },
     "metadata": {
      "needs_background": "light"
     },
     "output_type": "display_data"
    }
   ],
   "source": [
    "plt.figure(figsize=[10,5])\n",
    "plt.title('Accuracy Comparison')\n",
    "plt.xlabel('Accuracy')\n",
    "plt.ylabel('Algorithm')\n",
    "sns.barplot(x = acc,y = model,palette='dark')"
   ]
  },
  {
   "cell_type": "code",
   "execution_count": 32,
   "id": "cb464a3e",
   "metadata": {
    "execution": {
     "iopub.execute_input": "2023-04-05T19:18:09.994640Z",
     "iopub.status.busy": "2023-04-05T19:18:09.993745Z",
     "iopub.status.idle": "2023-04-05T19:18:10.001704Z",
     "shell.execute_reply": "2023-04-05T19:18:10.000208Z"
    },
    "papermill": {
     "duration": 0.027216,
     "end_time": "2023-04-05T19:18:10.004559",
     "exception": false,
     "start_time": "2023-04-05T19:18:09.977343",
     "status": "completed"
    },
    "tags": []
   },
   "outputs": [
    {
     "name": "stdout",
     "output_type": "stream",
     "text": [
      "Decision Tree --> 0.8681818181818182\n",
      "Naive Bayes --> 0.9939393939393939\n",
      "SVM --> 0.9681818181818181\n",
      "Logistic Regression --> 0.946969696969697\n",
      "RF --> 0.9924242424242424\n"
     ]
    }
   ],
   "source": [
    "accuracy_models = dict(zip(model, acc))\n",
    "for k, v in accuracy_models.items():\n",
    "    print (k, '-->', v)"
   ]
  },
  {
   "cell_type": "markdown",
   "id": "6aa5670a",
   "metadata": {
    "papermill": {
     "duration": 0.014153,
     "end_time": "2023-04-05T19:18:10.033763",
     "exception": false,
     "start_time": "2023-04-05T19:18:10.019610",
     "status": "completed"
    },
    "tags": []
   },
   "source": [
    "#Making a prediction"
   ]
  },
  {
   "cell_type": "code",
   "execution_count": 33,
   "id": "c465cb31",
   "metadata": {
    "execution": {
     "iopub.execute_input": "2023-04-05T19:18:10.065976Z",
     "iopub.status.busy": "2023-04-05T19:18:10.065162Z",
     "iopub.status.idle": "2023-04-05T19:18:10.079680Z",
     "shell.execute_reply": "2023-04-05T19:18:10.078106Z"
    },
    "papermill": {
     "duration": 0.033718,
     "end_time": "2023-04-05T19:18:10.082139",
     "exception": false,
     "start_time": "2023-04-05T19:18:10.048421",
     "status": "completed"
    },
    "tags": []
   },
   "outputs": [
    {
     "name": "stdout",
     "output_type": "stream",
     "text": [
      "['coffee']\n"
     ]
    }
   ],
   "source": [
    "data = np.array([[104,18, 30, 23.603016, 60.3, 6.7, 140.91]])\n",
    "prediction = RF.predict(data)\n",
    "print(prediction)"
   ]
  },
  {
   "cell_type": "code",
   "execution_count": 35,
   "id": "069b8a60",
   "metadata": {},
   "outputs": [],
   "source": [
    "import pickle"
   ]
  },
  {
   "cell_type": "code",
   "execution_count": 39,
   "id": "221311b5",
   "metadata": {},
   "outputs": [
    {
     "name": "stdout",
     "output_type": "stream",
     "text": [
      "22\n"
     ]
    }
   ],
   "source": [
    "print(\"22\")\n",
    "# Load the saved model\n",
    "loaded_model = pickle.load(open('Guassian Naive Bayes', 'rb'))"
   ]
  },
  {
   "cell_type": "code",
   "execution_count": 40,
   "id": "da609d84",
   "metadata": {},
   "outputs": [
    {
     "name": "stdout",
     "output_type": "stream",
     "text": [
      "Predictions: ['coffee']\n"
     ]
    }
   ],
   "source": [
    "# New data for prediction\n",
    "mydata = np.array([[104, 18, 30, 23.603016, 60.3, 6.7, 140.91]])\n",
    "\n",
    "# Make predictions\n",
    "predictions = loaded_model.predict(mydata)\n",
    "\n",
    "# Print the predictions\n",
    "print(\"Predictions:\", predictions)"
   ]
  },
  {
   "cell_type": "code",
   "execution_count": 43,
   "id": "65af75ff",
   "metadata": {},
   "outputs": [
    {
     "data": {
      "text/plain": [
       "'coffee'"
      ]
     },
     "execution_count": 43,
     "metadata": {},
     "output_type": "execute_result"
    }
   ],
   "source": [
    "predictions[0]"
   ]
  },
  {
   "cell_type": "code",
   "execution_count": 34,
   "id": "34e40fb4",
   "metadata": {
    "execution": {
     "iopub.execute_input": "2023-04-05T19:18:10.113383Z",
     "iopub.status.busy": "2023-04-05T19:18:10.112893Z",
     "iopub.status.idle": "2023-04-05T19:18:10.125106Z",
     "shell.execute_reply": "2023-04-05T19:18:10.123584Z"
    },
    "papermill": {
     "duration": 0.030908,
     "end_time": "2023-04-05T19:18:10.127781",
     "exception": false,
     "start_time": "2023-04-05T19:18:10.096873",
     "status": "completed"
    },
    "tags": []
   },
   "outputs": [
    {
     "name": "stdout",
     "output_type": "stream",
     "text": [
      "['jute']\n"
     ]
    }
   ],
   "source": [
    "data = np.array([[83, 45, 60, 28, 70.3, 7.0, 150.9]])\n",
    "prediction = RF.predict(data)\n",
    "print(prediction)"
   ]
  },
  {
   "cell_type": "markdown",
   "id": "3a34b9df",
   "metadata": {
    "papermill": {
     "duration": 0.014758,
     "end_time": "2023-04-05T19:18:10.157818",
     "exception": false,
     "start_time": "2023-04-05T19:18:10.143060",
     "status": "completed"
    },
    "tags": []
   },
   "source": [
    "#Gradio deployment"
   ]
  },
  {
   "cell_type": "code",
   "execution_count": 38,
   "id": "122cb961",
   "metadata": {
    "execution": {
     "iopub.execute_input": "2023-04-05T19:18:10.190495Z",
     "iopub.status.busy": "2023-04-05T19:18:10.190035Z",
     "iopub.status.idle": "2023-04-05T19:18:30.598696Z",
     "shell.execute_reply": "2023-04-05T19:18:30.596663Z"
    },
    "papermill": {
     "duration": 20.430126,
     "end_time": "2023-04-05T19:18:30.602555",
     "exception": false,
     "start_time": "2023-04-05T19:18:10.172429",
     "status": "completed"
    },
    "tags": []
   },
   "outputs": [
    {
     "name": "stdout",
     "output_type": "stream",
     "text": [
      "ERROR! Session/line number was not unique in database. History logging moved to new session 240\n",
      "Requirement already satisfied: gradio in c:\\users\\abdou\\anaconda3\\lib\\site-packages (3.34.0)\n",
      "Requirement already satisfied: semantic-version in c:\\users\\abdou\\anaconda3\\lib\\site-packages (from gradio) (2.10.0)\n",
      "Requirement already satisfied: pyyaml in c:\\users\\abdou\\anaconda3\\lib\\site-packages (from gradio) (5.3.1)\n",
      "Requirement already satisfied: huggingface-hub>=0.14.0 in c:\\users\\abdou\\anaconda3\\lib\\site-packages (from gradio) (0.15.1)\n",
      "Requirement already satisfied: markdown-it-py[linkify]>=2.0.0 in c:\\users\\abdou\\anaconda3\\lib\\site-packages (from gradio) (3.0.0)\n",
      "Requirement already satisfied: pygments>=2.12.0 in c:\\users\\abdou\\anaconda3\\lib\\site-packages (from gradio) (2.15.1)\n",
      "Requirement already satisfied: aiohttp in c:\\users\\abdou\\anaconda3\\lib\\site-packages (from gradio) (3.8.4)\n",
      "Requirement already satisfied: uvicorn>=0.14.0 in c:\\users\\abdou\\anaconda3\\lib\\site-packages (from gradio) (0.22.0)\n",
      "Requirement already satisfied: pillow in c:\\users\\abdou\\appdata\\roaming\\python\\python38\\site-packages (from gradio) (8.1.1)\n",
      "Requirement already satisfied: pydantic in c:\\users\\abdou\\anaconda3\\lib\\site-packages (from gradio) (1.10.9)\n",
      "Requirement already satisfied: pandas in c:\\users\\abdou\\appdata\\roaming\\python\\python38\\site-packages (from gradio) (1.2.4)\n",
      "Requirement already satisfied: altair>=4.2.0 in c:\\users\\abdou\\anaconda3\\lib\\site-packages (from gradio) (5.0.1)\n",
      "Requirement already satisfied: ffmpy in c:\\users\\abdou\\anaconda3\\lib\\site-packages (from gradio) (0.3.0)\n",
      "Requirement already satisfied: aiofiles in c:\\users\\abdou\\anaconda3\\lib\\site-packages (from gradio) (23.1.0)\n",
      "Requirement already satisfied: orjson in c:\\users\\abdou\\anaconda3\\lib\\site-packages (from gradio) (3.9.1)\n",
      "Requirement already satisfied: jinja2 in c:\\users\\abdou\\appdata\\roaming\\python\\python38\\site-packages (from gradio) (2.11.3)\n",
      "Requirement already satisfied: matplotlib in c:\\users\\abdou\\appdata\\roaming\\python\\python38\\site-packages (from gradio) (3.4.2)\n",
      "Requirement already satisfied: pydub in c:\\users\\abdou\\anaconda3\\lib\\site-packages (from gradio) (0.25.1)\n",
      "Requirement already satisfied: gradio-client>=0.2.6 in c:\\users\\abdou\\anaconda3\\lib\\site-packages (from gradio) (0.2.6)\n",
      "Requirement already satisfied: requests in c:\\users\\abdou\\appdata\\roaming\\python\\python38\\site-packages (from gradio) (2.25.1)\n",
      "Requirement already satisfied: httpx in c:\\users\\abdou\\anaconda3\\lib\\site-packages (from gradio) (0.24.1)\n",
      "Requirement already satisfied: python-multipart in c:\\users\\abdou\\anaconda3\\lib\\site-packages (from gradio) (0.0.6)\n",
      "Requirement already satisfied: typing-extensions in c:\\users\\abdou\\appdata\\roaming\\python\\python38\\site-packages (from gradio) (4.0.1)\n",
      "Requirement already satisfied: markupsafe in c:\\users\\abdou\\appdata\\roaming\\python\\python38\\site-packages (from gradio) (1.1.1)\n",
      "Requirement already satisfied: numpy in c:\\users\\abdou\\anaconda3\\lib\\site-packages (from gradio) (1.18.5)\n",
      "Requirement already satisfied: websockets>=10.0 in c:\\users\\abdou\\anaconda3\\lib\\site-packages (from gradio) (11.0.3)\n",
      "Requirement already satisfied: fastapi in c:\\users\\abdou\\anaconda3\\lib\\site-packages (from gradio) (0.97.0)\n",
      "Requirement already satisfied: mdit-py-plugins<=0.3.3 in c:\\users\\abdou\\anaconda3\\lib\\site-packages (from gradio) (0.3.3)\n",
      "Requirement already satisfied: fsspec in c:\\users\\abdou\\anaconda3\\lib\\site-packages (from huggingface-hub>=0.14.0->gradio) (0.8.3)\n",
      "Requirement already satisfied: tqdm>=4.42.1 in c:\\users\\abdou\\appdata\\roaming\\python\\python38\\site-packages (from huggingface-hub>=0.14.0->gradio) (4.61.2)\n",
      "Requirement already satisfied: packaging>=20.9 in c:\\users\\abdou\\appdata\\roaming\\python\\python38\\site-packages (from huggingface-hub>=0.14.0->gradio) (21.0)\n",
      "Requirement already satisfied: filelock in c:\\users\\abdou\\anaconda3\\lib\\site-packages (from huggingface-hub>=0.14.0->gradio) (3.0.12)\n",
      "Requirement already satisfied: mdurl~=0.1 in c:\\users\\abdou\\anaconda3\\lib\\site-packages (from markdown-it-py[linkify]>=2.0.0->gradio) (0.1.2)\n",
      "Requirement already satisfied: linkify-it-py<3,>=1; extra == \"linkify\" in c:\\users\\abdou\\anaconda3\\lib\\site-packages (from markdown-it-py[linkify]>=2.0.0->gradio) (2.0.2)\n",
      "Requirement already satisfied: yarl<2.0,>=1.0 in c:\\users\\abdou\\anaconda3\\lib\\site-packages (from aiohttp->gradio) (1.9.2)\n",
      "Requirement already satisfied: charset-normalizer<4.0,>=2.0 in c:\\users\\abdou\\anaconda3\\lib\\site-packages (from aiohttp->gradio) (3.1.0)\n",
      "Requirement already satisfied: attrs>=17.3.0 in c:\\users\\abdou\\appdata\\roaming\\python\\python38\\site-packages (from aiohttp->gradio) (21.2.0)\n",
      "Requirement already satisfied: multidict<7.0,>=4.5 in c:\\users\\abdou\\anaconda3\\lib\\site-packages (from aiohttp->gradio) (6.0.4)\n",
      "Requirement already satisfied: async-timeout<5.0,>=4.0.0a3 in c:\\users\\abdou\\anaconda3\\lib\\site-packages (from aiohttp->gradio) (4.0.2)\n",
      "Requirement already satisfied: aiosignal>=1.1.2 in c:\\users\\abdou\\anaconda3\\lib\\site-packages (from aiohttp->gradio) (1.3.1)\n",
      "Requirement already satisfied: frozenlist>=1.1.1 in c:\\users\\abdou\\anaconda3\\lib\\site-packages (from aiohttp->gradio) (1.3.3)\n",
      "Requirement already satisfied: click>=7.0 in c:\\users\\abdou\\appdata\\roaming\\python\\python38\\site-packages (from uvicorn>=0.14.0->gradio) (7.1.2)\n",
      "Requirement already satisfied: h11>=0.8 in c:\\users\\abdou\\appdata\\roaming\\python\\python38\\site-packages (from uvicorn>=0.14.0->gradio) (0.13.0)\n",
      "Requirement already satisfied: python-dateutil>=2.7.3 in c:\\users\\abdou\\appdata\\roaming\\python\\python38\\site-packages (from pandas->gradio) (2.8.1)\n",
      "Requirement already satisfied: pytz>=2017.3 in c:\\users\\abdou\\appdata\\roaming\\python\\python38\\site-packages (from pandas->gradio) (2021.1)\n",
      "Requirement already satisfied: toolz in c:\\users\\abdou\\anaconda3\\lib\\site-packages (from altair>=4.2.0->gradio) (0.11.1)\n",
      "Requirement already satisfied: jsonschema>=3.0 in c:\\users\\abdou\\appdata\\roaming\\python\\python38\\site-packages (from altair>=4.2.0->gradio) (4.4.0)\n",
      "Requirement already satisfied: pyparsing>=2.2.1 in c:\\users\\abdou\\appdata\\roaming\\python\\python38\\site-packages (from matplotlib->gradio) (2.4.7)\n",
      "Requirement already satisfied: kiwisolver>=1.0.1 in c:\\users\\abdou\\appdata\\roaming\\python\\python38\\site-packages (from matplotlib->gradio) (1.3.1)\n",
      "Requirement already satisfied: cycler>=0.10 in c:\\users\\abdou\\appdata\\roaming\\python\\python38\\site-packages (from matplotlib->gradio) (0.10.0)\n",
      "Requirement already satisfied: chardet<5,>=3.0.2 in c:\\users\\abdou\\appdata\\roaming\\python\\python38\\site-packages (from requests->gradio) (4.0.0)\n",
      "Requirement already satisfied: urllib3<1.27,>=1.21.1 in c:\\users\\abdou\\appdata\\roaming\\python\\python38\\site-packages (from requests->gradio) (1.26.3)\n",
      "Requirement already satisfied: certifi>=2017.4.17 in c:\\users\\abdou\\appdata\\roaming\\python\\python38\\site-packages (from requests->gradio) (2020.12.5)\n",
      "Requirement already satisfied: idna<3,>=2.5 in c:\\users\\abdou\\appdata\\roaming\\python\\python38\\site-packages (from requests->gradio) (2.10)\n",
      "Requirement already satisfied: sniffio in c:\\users\\abdou\\appdata\\roaming\\python\\python38\\site-packages (from httpx->gradio) (1.2.0)\n",
      "Requirement already satisfied: httpcore<0.18.0,>=0.15.0 in c:\\users\\abdou\\anaconda3\\lib\\site-packages (from httpx->gradio) (0.17.2)\n",
      "Requirement already satisfied: starlette<0.28.0,>=0.27.0 in c:\\users\\abdou\\anaconda3\\lib\\site-packages (from fastapi->gradio) (0.27.0)\n",
      "Requirement already satisfied: colorama; platform_system == \"Windows\" in c:\\users\\abdou\\appdata\\roaming\\python\\python38\\site-packages (from tqdm>=4.42.1->huggingface-hub>=0.14.0->gradio) (0.4.4)\n",
      "Requirement already satisfied: uc-micro-py in c:\\users\\abdou\\anaconda3\\lib\\site-packages (from linkify-it-py<3,>=1; extra == \"linkify\"->markdown-it-py[linkify]>=2.0.0->gradio) (1.0.2)\n",
      "Requirement already satisfied: six>=1.5 in c:\\users\\abdou\\appdata\\roaming\\python\\python38\\site-packages (from python-dateutil>=2.7.3->pandas->gradio) (1.15.0)\n",
      "Requirement already satisfied: pyrsistent!=0.17.0,!=0.17.1,!=0.17.2,>=0.14.0 in c:\\users\\abdou\\appdata\\roaming\\python\\python38\\site-packages (from jsonschema>=3.0->altair>=4.2.0->gradio) (0.18.1)\n",
      "Requirement already satisfied: importlib-resources>=1.4.0; python_version < \"3.9\" in c:\\users\\abdou\\appdata\\roaming\\python\\python38\\site-packages (from jsonschema>=3.0->altair>=4.2.0->gradio) (5.4.0)\n",
      "Requirement already satisfied: anyio<5.0,>=3.0 in c:\\users\\abdou\\anaconda3\\lib\\site-packages (from httpcore<0.18.0,>=0.15.0->httpx->gradio) (3.7.0)\n",
      "Requirement already satisfied: zipp>=3.1.0; python_version < \"3.10\" in c:\\users\\abdou\\appdata\\roaming\\python\\python38\\site-packages (from importlib-resources>=1.4.0; python_version < \"3.9\"->jsonschema>=3.0->altair>=4.2.0->gradio) (3.7.0)\n",
      "Requirement already satisfied: exceptiongroup; python_version < \"3.11\" in c:\\users\\abdou\\anaconda3\\lib\\site-packages (from anyio<5.0,>=3.0->httpcore<0.18.0,>=0.15.0->httpx->gradio) (1.1.1)\n"
     ]
    }
   ],
   "source": [
    "!pip install gradio"
   ]
  },
  {
   "cell_type": "code",
   "execution_count": null,
   "id": "4f80bdda",
   "metadata": {},
   "outputs": [
    {
     "name": "stdout",
     "output_type": "stream",
     "text": [
      "ERROR! Session/line number was not unique in database. History logging moved to new session 241\n"
     ]
    }
   ],
   "source": [
    "import gradio as gr\n",
    "print(\"hhh\")"
   ]
  },
  {
   "cell_type": "code",
   "execution_count": 36,
   "id": "96cd4bbf",
   "metadata": {
    "execution": {
     "iopub.execute_input": "2023-04-05T19:18:30.642941Z",
     "iopub.status.busy": "2023-04-05T19:18:30.641778Z",
     "iopub.status.idle": "2023-04-05T19:18:30.648907Z",
     "shell.execute_reply": "2023-04-05T19:18:30.647433Z"
    },
    "papermill": {
     "duration": 0.03063,
     "end_time": "2023-04-05T19:18:30.651465",
     "exception": false,
     "start_time": "2023-04-05T19:18:30.620835",
     "status": "completed"
    },
    "tags": []
   },
   "outputs": [
    {
     "name": "stdout",
     "output_type": "stream",
     "text": [
      "ERROR! Session/line number was not unique in database. History logging moved to new session 238\n"
     ]
    }
   ],
   "source": [
    "def crop_recom(N,P,K,tem,hum,ph,rain):\n",
    "    crop = RF.predict([[N,P,K,tem,hum,ph,rain]])\n",
    "    return crop\n",
    "    "
   ]
  },
  {
   "cell_type": "code",
   "execution_count": 37,
   "id": "41f0bb53",
   "metadata": {
    "execution": {
     "iopub.execute_input": "2023-04-05T19:18:30.690040Z",
     "iopub.status.busy": "2023-04-05T19:18:30.688726Z",
     "iopub.status.idle": "2023-04-05T19:18:30.703727Z",
     "shell.execute_reply": "2023-04-05T19:18:30.702380Z"
    },
    "papermill": {
     "duration": 0.038576,
     "end_time": "2023-04-05T19:18:30.707685",
     "exception": false,
     "start_time": "2023-04-05T19:18:30.669109",
     "status": "completed"
    },
    "tags": []
   },
   "outputs": [
    {
     "data": {
      "text/plain": [
       "array(['jute'], dtype=object)"
      ]
     },
     "execution_count": 37,
     "metadata": {},
     "output_type": "execute_result"
    },
    {
     "name": "stdout",
     "output_type": "stream",
     "text": [
      "ERROR! Session/line number was not unique in database. History logging moved to new session 239\n"
     ]
    }
   ],
   "source": [
    "crop_recom(83, 45, 60, 28, 70.3, 7.0, 150.9)"
   ]
  },
  {
   "cell_type": "code",
   "execution_count": null,
   "id": "414be258",
   "metadata": {
    "execution": {
     "iopub.execute_input": "2023-04-05T19:18:30.747888Z",
     "iopub.status.busy": "2023-04-05T19:18:30.747429Z",
     "iopub.status.idle": "2023-04-05T19:18:34.408082Z",
     "shell.execute_reply": "2023-04-05T19:18:34.406927Z"
    },
    "papermill": {
     "duration": 3.683542,
     "end_time": "2023-04-05T19:18:34.410657",
     "exception": false,
     "start_time": "2023-04-05T19:18:30.727115",
     "status": "completed"
    },
    "tags": []
   },
   "outputs": [],
   "source": [
    "interface = gr.Interface(\n",
    "  fn =crop_recom, #function\n",
    "  inputs = ['number','number','number','number','number','number','number'],\n",
    "  outputs = ['text']  \n",
    "\n",
    "\n",
    ").launch(share=False)"
   ]
  },
  {
   "cell_type": "code",
   "execution_count": null,
   "id": "614c23b9",
   "metadata": {},
   "outputs": [],
   "source": []
  }
 ],
 "metadata": {
  "kernelspec": {
   "display_name": "Python 3",
   "language": "python",
   "name": "python3"
  },
  "language_info": {
   "codemirror_mode": {
    "name": "ipython",
    "version": 3
   },
   "file_extension": ".py",
   "mimetype": "text/x-python",
   "name": "python",
   "nbconvert_exporter": "python",
   "pygments_lexer": "ipython3",
   "version": "3.8.5"
  },
  "papermill": {
   "default_parameters": {},
   "duration": 43.873603,
   "end_time": "2023-04-05T19:18:36.460021",
   "environment_variables": {},
   "exception": null,
   "input_path": "__notebook__.ipynb",
   "output_path": "__notebook__.ipynb",
   "parameters": {},
   "start_time": "2023-04-05T19:17:52.586418",
   "version": "2.4.0"
  }
 },
 "nbformat": 4,
 "nbformat_minor": 5
}
